{
  "nbformat": 4,
  "nbformat_minor": 0,
  "metadata": {
    "colab": {
      "provenance": [],
      "machine_shape": "hm",
      "gpuType": "V100",
      "gpuClass": "premium",
      "mount_file_id": "1-EspOA186pdAnu_BQ-B7BJJ7vMZA9HMX",
      "authorship_tag": "ABX9TyPpMuCqtAP6AHmavdPXaEUU",
      "include_colab_link": true
    },
    "kernelspec": {
      "name": "python3",
      "display_name": "Python 3"
    },
    "language_info": {
      "name": "python"
    },
    "gpuClass": "premium"
  },
  "cells": [
    {
      "cell_type": "markdown",
      "metadata": {
        "id": "view-in-github",
        "colab_type": "text"
      },
      "source": [
        "<a href=\"https://colab.research.google.com/github/DingSu0123/-/blob/main/pred.ipynb\" target=\"_parent\"><img src=\"https://colab.research.google.com/assets/colab-badge.svg\" alt=\"Open In Colab\"/></a>"
      ]
    },
    {
      "cell_type": "code",
      "source": [
        "pip install transformers"
      ],
      "metadata": {
        "colab": {
          "base_uri": "https://localhost:8080/"
        },
        "id": "KspASA8b_8XO",
        "outputId": "e6546047-193a-4d0a-eaa7-e9ea0335ef8f"
      },
      "execution_count": null,
      "outputs": [
        {
          "output_type": "stream",
          "name": "stdout",
          "text": [
            "Looking in indexes: https://pypi.org/simple, https://us-python.pkg.dev/colab-wheels/public/simple/\n",
            "Collecting transformers\n",
            "  Downloading transformers-4.29.2-py3-none-any.whl (7.1 MB)\n",
            "\u001b[2K     \u001b[90m━━━━━━━━━━━━━━━━━━━━━━━━━━━━━━━━━━━━━━━━\u001b[0m \u001b[32m7.1/7.1 MB\u001b[0m \u001b[31m79.5 MB/s\u001b[0m eta \u001b[36m0:00:00\u001b[0m\n",
            "\u001b[?25hRequirement already satisfied: filelock in /usr/local/lib/python3.10/dist-packages (from transformers) (3.12.0)\n",
            "Collecting huggingface-hub<1.0,>=0.14.1 (from transformers)\n",
            "  Downloading huggingface_hub-0.14.1-py3-none-any.whl (224 kB)\n",
            "\u001b[2K     \u001b[90m━━━━━━━━━━━━━━━━━━━━━━━━━━━━━━━━━━━━━━\u001b[0m \u001b[32m224.5/224.5 kB\u001b[0m \u001b[31m23.9 MB/s\u001b[0m eta \u001b[36m0:00:00\u001b[0m\n",
            "\u001b[?25hRequirement already satisfied: numpy>=1.17 in /usr/local/lib/python3.10/dist-packages (from transformers) (1.22.4)\n",
            "Requirement already satisfied: packaging>=20.0 in /usr/local/lib/python3.10/dist-packages (from transformers) (23.1)\n",
            "Requirement already satisfied: pyyaml>=5.1 in /usr/local/lib/python3.10/dist-packages (from transformers) (6.0)\n",
            "Requirement already satisfied: regex!=2019.12.17 in /usr/local/lib/python3.10/dist-packages (from transformers) (2022.10.31)\n",
            "Requirement already satisfied: requests in /usr/local/lib/python3.10/dist-packages (from transformers) (2.27.1)\n",
            "Collecting tokenizers!=0.11.3,<0.14,>=0.11.1 (from transformers)\n",
            "  Downloading tokenizers-0.13.3-cp310-cp310-manylinux_2_17_x86_64.manylinux2014_x86_64.whl (7.8 MB)\n",
            "\u001b[2K     \u001b[90m━━━━━━━━━━━━━━━━━━━━━━━━━━━━━━━━━━━━━━━━\u001b[0m \u001b[32m7.8/7.8 MB\u001b[0m \u001b[31m75.7 MB/s\u001b[0m eta \u001b[36m0:00:00\u001b[0m\n",
            "\u001b[?25hRequirement already satisfied: tqdm>=4.27 in /usr/local/lib/python3.10/dist-packages (from transformers) (4.65.0)\n",
            "Requirement already satisfied: fsspec in /usr/local/lib/python3.10/dist-packages (from huggingface-hub<1.0,>=0.14.1->transformers) (2023.4.0)\n",
            "Requirement already satisfied: typing-extensions>=3.7.4.3 in /usr/local/lib/python3.10/dist-packages (from huggingface-hub<1.0,>=0.14.1->transformers) (4.5.0)\n",
            "Requirement already satisfied: urllib3<1.27,>=1.21.1 in /usr/local/lib/python3.10/dist-packages (from requests->transformers) (1.26.15)\n",
            "Requirement already satisfied: certifi>=2017.4.17 in /usr/local/lib/python3.10/dist-packages (from requests->transformers) (2022.12.7)\n",
            "Requirement already satisfied: charset-normalizer~=2.0.0 in /usr/local/lib/python3.10/dist-packages (from requests->transformers) (2.0.12)\n",
            "Requirement already satisfied: idna<4,>=2.5 in /usr/local/lib/python3.10/dist-packages (from requests->transformers) (3.4)\n",
            "Installing collected packages: tokenizers, huggingface-hub, transformers\n",
            "Successfully installed huggingface-hub-0.14.1 tokenizers-0.13.3 transformers-4.29.2\n"
          ]
        }
      ]
    },
    {
      "cell_type": "code",
      "source": [
        "pip install BayesianOptimization"
      ],
      "metadata": {
        "colab": {
          "base_uri": "https://localhost:8080/"
        },
        "id": "F4us0SOJAb8f",
        "outputId": "629c5b57-6410-4bbc-e170-9db5802c61ca"
      },
      "execution_count": null,
      "outputs": [
        {
          "output_type": "stream",
          "name": "stdout",
          "text": [
            "Looking in indexes: https://pypi.org/simple, https://us-python.pkg.dev/colab-wheels/public/simple/\n",
            "Collecting BayesianOptimization\n",
            "  Downloading BayesianOptimization-0.0.0-py3-none-any.whl (13 kB)\n",
            "Requirement already satisfied: numpy in /usr/local/lib/python3.10/dist-packages (from BayesianOptimization) (1.22.4)\n",
            "Installing collected packages: BayesianOptimization\n",
            "Successfully installed BayesianOptimization-0.0.0\n"
          ]
        }
      ]
    },
    {
      "cell_type": "code",
      "source": [
        "pip install jieba"
      ],
      "metadata": {
        "colab": {
          "base_uri": "https://localhost:8080/"
        },
        "id": "w7Yig3GHDy1L",
        "outputId": "da36bb5a-e4e0-42dd-a5dd-abf59b2c9a86"
      },
      "execution_count": null,
      "outputs": [
        {
          "output_type": "stream",
          "name": "stdout",
          "text": [
            "Looking in indexes: https://pypi.org/simple, https://us-python.pkg.dev/colab-wheels/public/simple/\n",
            "Requirement already satisfied: jieba in /usr/local/lib/python3.10/dist-packages (0.42.1)\n"
          ]
        }
      ]
    },
    {
      "cell_type": "code",
      "source": [
        "import zipfile\n",
        "import os"
      ],
      "metadata": {
        "id": "MJk3zBWO2L3H"
      },
      "execution_count": null,
      "outputs": []
    },
    {
      "cell_type": "code",
      "source": [
        "import torch\n",
        "import datetime\n",
        "import time"
      ],
      "metadata": {
        "id": "cnuKMmsXfSgB"
      },
      "execution_count": null,
      "outputs": []
    },
    {
      "cell_type": "code",
      "source": [
        "import re\n",
        "import nltk\n",
        "import jieba\n",
        "import pandas as pd\n",
        "from nltk.corpus import stopwords\n",
        "from model import TransferLearningBERT"
      ],
      "metadata": {
        "id": "vJ3iltIM0ANu"
      },
      "execution_count": null,
      "outputs": []
    },
    {
      "cell_type": "code",
      "source": [
        "# 解压 punkt.zip 文件到 nltk_data/tokenizers 目录\n",
        "with zipfile.ZipFile('/content/punkt.zip', 'r') as zip_ref:\n",
        "    zip_ref.extractall('/content/nltk_data/tokenizers')\n",
        "\n",
        "# 将 nltk_data 目录添加到 nltk 的数据路径\n",
        "nltk.data.path.append(\"/content/nltk_data\")"
      ],
      "metadata": {
        "id": "UfyQ1_Au2Xmr"
      },
      "execution_count": null,
      "outputs": []
    },
    {
      "cell_type": "code",
      "source": [
        "def read_preprocess_data(filename):\n",
        "    df = pd.read_csv(filename, sep=r'\\|-\\|')\n",
        "    df['text'] = df[['en_table_name', 'en_field_name', 'cn_table_name', 'cn_field_name', 'system_name']].apply(lambda x: ' '.join(x.dropna().astype(str)), axis=1)\n",
        "    df.dropna(subset=['text'], inplace=True)\n",
        "    df['text'] = df['text'].str.lower()\n",
        "\n",
        "    nltk.download('stopwords')\n",
        "    stop_words = set(stopwords.words('english'))\n",
        "    df['text'] = df['text'].apply(lambda x: ' '.join([word for word in x.split() if word.lower() not in stop_words]))\n",
        "\n",
        "    df['text'] = df['text'].apply(lambda x: re.sub(r'[^\\w\\s]', '', x))\n",
        "    df['text'] = df['text'].apply(lambda x: re.sub(r'\\s+', ' ', x))\n",
        "    df['text'] = df['text'].apply(lambda x: x.strip())\n",
        "\n",
        "    # 分词函数，用于对英文和中文进行分词\n",
        "    def tokenize_text(text):\n",
        "        # 分离中英文字符\n",
        "        en_pattern = re.compile(r'[a-zA-Z]+')\n",
        "        zh_pattern = re.compile(r'[\\u4e00-\\u9fa5]+')\n",
        "        en_words = en_pattern.findall(text)\n",
        "        zh_words = zh_pattern.findall(text)\n",
        "\n",
        "        if len(en_words) > 0 and len(zh_words) > 0:\n",
        "            en_tokens = nltk.word_tokenize(' '.join(en_words))\n",
        "            zh_tokens = [w for w in jieba.cut(' '.join(zh_words)) if w.strip()]\n",
        "            tokens = en_tokens + zh_tokens\n",
        "        elif len(en_words) > 0:\n",
        "            tokens = nltk.word_tokenize(text)\n",
        "        else:\n",
        "            tokens = [w for w in jieba.cut(text) if w.strip()]\n",
        "        return ' '.join(tokens)\n",
        "\n",
        "    # 对'text'列中的文本进行分词\n",
        "    df['text'] = df['text'].apply(lambda x: tokenize_text(x))\n",
        "    df['text'] = df['text'].apply(lambda x: x.replace('_', ' '))\n",
        "\n",
        "\n",
        "    return df"
      ],
      "metadata": {
        "id": "gWU_YdOozLRX"
      },
      "execution_count": null,
      "outputs": []
    },
    {
      "cell_type": "code",
      "source": [
        "def predict_batch(texts, batch_size=1280):\n",
        "    preds = []\n",
        "    for i in range(0, len(texts), batch_size):\n",
        "        batch_texts = texts[i: i+batch_size]\n",
        "\n",
        "        encoded_dict = [model.tokenizer.encode_plus(text, add_special_tokens=True, max_length=128,\n",
        "                                                    pad_to_max_length=True, return_attention_mask=True)\n",
        "                        for text in batch_texts]\n",
        "\n",
        "        input_ids = torch.tensor([enc['input_ids'] for enc in encoded_dict]).to(model.device)\n",
        "        attention_masks = torch.tensor([enc['attention_mask'] for enc in encoded_dict]).to(model.device)\n",
        "\n",
        "        with torch.no_grad():\n",
        "            logits = model.model(input_ids, attention_mask=attention_masks)[0]\n",
        "\n",
        "        predicted_labels = torch.argmax(logits, dim=1).cpu().numpy() + 1\n",
        "        preds.extend(predicted_labels)\n",
        "\n",
        "    return preds\n"
      ],
      "metadata": {
        "id": "T20owkyczwCu"
      },
      "execution_count": null,
      "outputs": []
    },
    {
      "cell_type": "code",
      "source": [
        "# 载入所需预测数据集\n",
        "pred_data = read_preprocess_data('/content/附录2.csv')"
      ],
      "metadata": {
        "colab": {
          "base_uri": "https://localhost:8080/"
        },
        "id": "IqNwE15Wz0Ht",
        "outputId": "9314bc59-292b-4a0e-b32a-5ed6a681ffc3"
      },
      "execution_count": null,
      "outputs": [
        {
          "output_type": "stream",
          "name": "stderr",
          "text": [
            "<ipython-input-8-faea543c6180>:2: ParserWarning: Falling back to the 'python' engine because the 'c' engine does not support regex separators (separators > 1 char and different from '\\s+' are interpreted as regex); you can avoid this warning by specifying engine='python'.\n",
            "  df = pd.read_csv(filename, sep=r'\\|-\\|')\n",
            "[nltk_data] Downloading package stopwords to /root/nltk_data...\n",
            "[nltk_data]   Package stopwords is already up-to-date!\n"
          ]
        }
      ]
    },
    {
      "cell_type": "code",
      "source": [
        "# 加载模型\n",
        "model = torch.load('/content/drive/MyDrive/Colab Notebooks/complete_model.pt')\n",
        "model.model.eval()"
      ],
      "metadata": {
        "colab": {
          "base_uri": "https://localhost:8080/"
        },
        "id": "nhgFQSxx0MDF",
        "outputId": "67b7af82-8dcc-4843-a4cf-88f02d06a7d7"
      },
      "execution_count": null,
      "outputs": [
        {
          "output_type": "execute_result",
          "data": {
            "text/plain": [
              "BertForSequenceClassification(\n",
              "  (bert): BertModel(\n",
              "    (embeddings): BertEmbeddings(\n",
              "      (word_embeddings): Embedding(30522, 768, padding_idx=0)\n",
              "      (position_embeddings): Embedding(512, 768)\n",
              "      (token_type_embeddings): Embedding(2, 768)\n",
              "      (LayerNorm): LayerNorm((768,), eps=1e-12, elementwise_affine=True)\n",
              "      (dropout): Dropout(p=0.1, inplace=False)\n",
              "    )\n",
              "    (encoder): BertEncoder(\n",
              "      (layer): ModuleList(\n",
              "        (0-11): 12 x BertLayer(\n",
              "          (attention): BertAttention(\n",
              "            (self): BertSelfAttention(\n",
              "              (query): Linear(in_features=768, out_features=768, bias=True)\n",
              "              (key): Linear(in_features=768, out_features=768, bias=True)\n",
              "              (value): Linear(in_features=768, out_features=768, bias=True)\n",
              "              (dropout): Dropout(p=0.1, inplace=False)\n",
              "            )\n",
              "            (output): BertSelfOutput(\n",
              "              (dense): Linear(in_features=768, out_features=768, bias=True)\n",
              "              (LayerNorm): LayerNorm((768,), eps=1e-12, elementwise_affine=True)\n",
              "              (dropout): Dropout(p=0.1, inplace=False)\n",
              "            )\n",
              "          )\n",
              "          (intermediate): BertIntermediate(\n",
              "            (dense): Linear(in_features=768, out_features=3072, bias=True)\n",
              "            (intermediate_act_fn): GELUActivation()\n",
              "          )\n",
              "          (output): BertOutput(\n",
              "            (dense): Linear(in_features=3072, out_features=768, bias=True)\n",
              "            (LayerNorm): LayerNorm((768,), eps=1e-12, elementwise_affine=True)\n",
              "            (dropout): Dropout(p=0.1, inplace=False)\n",
              "          )\n",
              "        )\n",
              "      )\n",
              "    )\n",
              "    (pooler): BertPooler(\n",
              "      (dense): Linear(in_features=768, out_features=768, bias=True)\n",
              "      (activation): Tanh()\n",
              "    )\n",
              "  )\n",
              "  (dropout): Dropout(p=0.1, inplace=False)\n",
              "  (classifier): Linear(in_features=768, out_features=3, bias=True)\n",
              ")"
            ]
          },
          "metadata": {},
          "execution_count": 15
        }
      ]
    },
    {
      "cell_type": "code",
      "source": [
        "# 对每一行进行预测并保存预测结果和时间戳\n",
        "texts = pred_data['text'].tolist()\n",
        "start_time = time.time()  # 获取当前Unix时间戳\n",
        "y_preds = predict_batch(texts)\n",
        "end_time = time.time()\n",
        "\n",
        "load_time = datetime.datetime.fromtimestamp(end_time).strftime('%Y-%m-%d %H:%M:%S')  # 转换成指定格式的日期时间字符串\n",
        "\n",
        "pred_data['y_pred'] = y_preds\n",
        "pred_data['load_time'] = load_time\n",
        "\n",
        "pred_data.to_csv('prediction_results_new.csv', index=False)\n"
      ],
      "metadata": {
        "colab": {
          "base_uri": "https://localhost:8080/"
        },
        "id": "CJ6OUGlZ0Dqh",
        "outputId": "f195147d-0e63-4086-8082-3029a096abba"
      },
      "execution_count": null,
      "outputs": [
        {
          "output_type": "stream",
          "name": "stderr",
          "text": [
            "/usr/local/lib/python3.10/dist-packages/transformers/tokenization_utils_base.py:2364: FutureWarning: The `pad_to_max_length` argument is deprecated and will be removed in a future version, use `padding=True` or `padding='longest'` to pad to the longest sequence in the batch, or use `padding='max_length'` to pad to a max length. In this case, you can give a specific length with `max_length` (e.g. `max_length=45`) or leave max_length to None to pad to the maximal input size of the model (e.g. 512 for Bert).\n",
            "  warnings.warn(\n"
          ]
        }
      ]
    }
  ]
}